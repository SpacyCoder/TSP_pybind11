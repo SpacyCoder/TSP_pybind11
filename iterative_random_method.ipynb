{
 "cells": [
  {
   "cell_type": "code",
   "execution_count": 24,
   "metadata": {},
   "outputs": [],
   "source": [
    "from random import randint;\n",
    "\n",
    "edges = [None] * 4\n",
    "edges[0] = [0, 7, 5, 4]\n",
    "edges[1] = [3, 0, 1, 2]\n",
    "edges[2] = [6, 3, 0, 1]\n",
    "edges[3] = [9, 3, 5, 0]\n",
    "numberOfCities = 4\n",
    "\n",
    "def getCost(tour):\n",
    "    cost = 0\n",
    "    for city in range(1, len(tour)):\n",
    "        fromCity = tour[city - 1]\n",
    "        toCity = tour[city]\n",
    "        cost += edges[fromCity][toCity]\n",
    "    return cost\n",
    "\n",
    "def numberOfCitiesVisited(visitedCities):\n",
    "    count = 0;\n",
    "    for visited in visitedCities:\n",
    "        if visited:\n",
    "            count += 1\n",
    "    return count\n",
    "\n",
    "\n"
   ]
  },
  {
   "cell_type": "code",
   "execution_count": 36,
   "metadata": {},
   "outputs": [
    {
     "name": "stdout",
     "output_type": "stream",
     "text": [
      "True 13\n",
      "True 12\n",
      "False 17\n",
      "False 12\n",
      "True 10\n",
      "False 11\n",
      "False 16\n",
      "False 13\n",
      "False 10\n",
      "False 12\n",
      "False 17\n",
      "False 15\n",
      "False 16\n",
      "False 11\n",
      "True 9\n",
      "False 9\n",
      "False 12\n",
      "True 8\n",
      "False 17\n",
      "False 13\n",
      "Tour:  [0, 3, 1, 2]\n",
      "Cost 8\n"
     ]
    }
   ],
   "source": [
    "stop = False\n",
    "iterations = 0\n",
    "bestTour = []\n",
    "bestCost = 999999\n",
    "maxIterations = 20\n",
    "\n",
    "def randomMethod():\n",
    "    visitedCities = [False] * 4;\n",
    "    tour = [None] * 4; \n",
    "\n",
    "    startingCity = randint(0, 3)\n",
    "    tour[0] = startingCity\n",
    "    visitedCities[startingCity] = True\n",
    "    currentIndex = 0\n",
    "    while numberOfCitiesVisited(visitedCities) != numberOfCities:\n",
    "        randomIndex = randint(0, 3)\n",
    "        if not visitedCities[randomIndex]:\n",
    "            currentIndex += 1\n",
    "            visitedCities[randomIndex] = True\n",
    "            tour[currentIndex] = randomIndex\n",
    "    return tour\n",
    "\n",
    "def isBestTour(tour):\n",
    "    newCost = getCost(tour)\n",
    "    return newCost < bestCost, newCost\n",
    "\n",
    "while not stop:\n",
    "    tour = randomMethod()\n",
    "    isBest, cost = isBestTour(tour)\n",
    "    if isBest:\n",
    "        bestTour = tour\n",
    "        bestCost = cost\n",
    "    iterations += 1\n",
    "    stop =  iterations >= maxIterations\n",
    "    \n",
    "\n",
    "print(\"Tour: \", bestTour)\n",
    "print(\"Cost\", bestCost)\n",
    "\n",
    "\n"
   ]
  },
  {
   "cell_type": "code",
   "execution_count": null,
   "metadata": {},
   "outputs": [],
   "source": []
  },
  {
   "cell_type": "code",
   "execution_count": null,
   "metadata": {},
   "outputs": [],
   "source": []
  },
  {
   "cell_type": "code",
   "execution_count": null,
   "metadata": {},
   "outputs": [],
   "source": []
  },
  {
   "cell_type": "code",
   "execution_count": null,
   "metadata": {},
   "outputs": [],
   "source": []
  }
 ],
 "metadata": {
  "kernelspec": {
   "display_name": "Python 3",
   "language": "python",
   "name": "python3"
  },
  "language_info": {
   "codemirror_mode": {
    "name": "ipython",
    "version": 3
   },
   "file_extension": ".py",
   "mimetype": "text/x-python",
   "name": "python",
   "nbconvert_exporter": "python",
   "pygments_lexer": "ipython3",
   "version": "3.6.5"
  }
 },
 "nbformat": 4,
 "nbformat_minor": 2
}
