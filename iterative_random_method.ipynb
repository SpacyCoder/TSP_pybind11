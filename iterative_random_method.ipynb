{
 "cells": [
  {
   "cell_type": "code",
   "execution_count": null,
   "metadata": {},
   "outputs": [],
   "source": [
    "from data import numberOfCities, edges\n",
    "from utils import getCost, numberOfCitiesVisited\n",
    "from random import randint\n",
    "import math"
   ]
  },
  {
   "cell_type": "code",
   "execution_count": null,
   "metadata": {},
   "outputs": [],
   "source": [
    "stop = False\n",
    "iterations = 0\n",
    "bestTour = []\n",
    "bestCost =  math.inf\n",
    "maxIterations = 20\n",
    "\n",
    "def randomMethod():\n",
    "    visitedCities = [False] * 4;\n",
    "    tour = [None] * 4; \n",
    "\n",
    "    startingCity = randint(0, 3)\n",
    "    tour[0] = startingCity\n",
    "    visitedCities[startingCity] = True\n",
    "    currentIndex = 0\n",
    "    while numberOfCitiesVisited(visitedCities) != numberOfCities:\n",
    "        randomIndex = randint(0, 3)\n",
    "        if not visitedCities[randomIndex]:\n",
    "            currentIndex += 1\n",
    "            visitedCities[randomIndex] = True\n",
    "            tour[currentIndex] = randomIndex\n",
    "    return tour\n",
    "\n",
    "def isBestTour(tour):\n",
    "    newCost = getCost(tour)\n",
    "    return newCost < bestCost, newCost\n",
    "\n",
    "while not stop:\n",
    "    tour = randomMethod()\n",
    "    isBest, cost = isBestTour(tour)\n",
    "    if isBest:\n",
    "        bestTour = tour\n",
    "        bestCost = cost\n",
    "    iterations += 1\n",
    "    stop =  iterations >= maxIterations\n",
    "    \n",
    "\n",
    "print(\"Tour: \", bestTour)\n",
    "print(\"Cost\", bestCost)\n",
    "\n",
    "\n"
   ]
  },
  {
   "cell_type": "code",
   "execution_count": null,
   "metadata": {},
   "outputs": [],
   "source": []
  },
  {
   "cell_type": "code",
   "execution_count": null,
   "metadata": {},
   "outputs": [],
   "source": []
  },
  {
   "cell_type": "code",
   "execution_count": null,
   "metadata": {},
   "outputs": [],
   "source": []
  },
  {
   "cell_type": "code",
   "execution_count": null,
   "metadata": {},
   "outputs": [],
   "source": []
  }
 ],
 "metadata": {
  "kernelspec": {
   "display_name": "Python 3",
   "language": "python",
   "name": "python3"
  },
  "language_info": {
   "codemirror_mode": {
    "name": "ipython",
    "version": 3
   },
   "file_extension": ".py",
   "mimetype": "text/x-python",
   "name": "python",
   "nbconvert_exporter": "python",
   "pygments_lexer": "ipython3",
   "version": "3.6.5"
  }
 },
 "nbformat": 4,
 "nbformat_minor": 2
}
