{
 "cells": [
  {
   "cell_type": "code",
   "execution_count": 6,
   "metadata": {},
   "outputs": [],
   "source": [
    "from random import randint;\n",
    "import math\n",
    "edges = [None] * 4\n",
    "edges[0] = [0, 7, 5, 4]\n",
    "edges[1] = [3, 0, 1, 2]\n",
    "edges[2] = [6, 3, 0, 5]\n",
    "edges[3] = [9, 3, 5, 0]\n",
    "numberOfCities = 4\n",
    "\n",
    "def getCost(tour):\n",
    "    cost = 0\n",
    "    for city in range(1, len(tour)):\n",
    "        fromCity = tour[city - 1]\n",
    "        toCity = tour[city]\n",
    "        cost += edges[fromCity][toCity]\n",
    "    return cost\n",
    "\n",
    "def numberOfCitiesVisited(visitedCities):\n",
    "    count = 0;\n",
    "    for visited in visitedCities:\n",
    "        if visited:\n",
    "            count += 1\n",
    "    return count\n",
    "\n"
   ]
  },
  {
   "cell_type": "code",
   "execution_count": 8,
   "metadata": {},
   "outputs": [
    {
     "name": "stdout",
     "output_type": "stream",
     "text": [
      "Tour:  [2, 1, 3, 0]\n",
      "Cost 14\n"
     ]
    }
   ],
   "source": [
    "visitedCities = [False] * 4\n",
    "tour = []\n",
    "\n",
    "startingCity = randint(0, 3)\n",
    "visitedCities[startingCity] = True\n",
    "tour.append(startingCity)\n",
    "def getNearestCity(fromCity):\n",
    "    smallestCost = math.inf\n",
    "    toCity = 0\n",
    "    for city, cost in enumerate(edges[fromCity]):\n",
    "        if city == fromCity: \n",
    "            continue\n",
    "        if cost < smallestCost and not visitedCities[city]:\n",
    "            smallestCost = cost\n",
    "            toCity = city\n",
    "    return toCity\n",
    "            \n",
    "\n",
    "currentIndex = 0\n",
    "while numberOfCitiesVisited(visitedCities) != numberOfCities:\n",
    "    city = getNearestCity(tour[currentIndex])\n",
    "    currentIndex += 1\n",
    "    visitedCities[city] = True\n",
    "    tour.append(city)\n",
    "\n",
    "print(\"Tour: \", tour)\n",
    "print(\"Cost\", getCost(tour))"
   ]
  },
  {
   "cell_type": "code",
   "execution_count": null,
   "metadata": {},
   "outputs": [],
   "source": []
  }
 ],
 "metadata": {
  "kernelspec": {
   "display_name": "Python 3",
   "language": "python",
   "name": "python3"
  },
  "language_info": {
   "codemirror_mode": {
    "name": "ipython",
    "version": 3
   },
   "file_extension": ".py",
   "mimetype": "text/x-python",
   "name": "python",
   "nbconvert_exporter": "python",
   "pygments_lexer": "ipython3",
   "version": "3.6.5"
  }
 },
 "nbformat": 4,
 "nbformat_minor": 2
}
