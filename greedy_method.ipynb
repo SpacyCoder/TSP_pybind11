{
 "cells": [
  {
   "cell_type": "code",
   "execution_count": 3,
   "metadata": {},
   "outputs": [],
   "source": [
    "from data import numberOfCities, edges\n",
    "from utils import getCost, numberOfCitiesVisited\n",
    "from random import randint\n",
    "import math"
   ]
  },
  {
   "cell_type": "code",
   "execution_count": 9,
   "metadata": {},
   "outputs": [
    {
     "name": "stdout",
     "output_type": "stream",
     "text": [
      "Tour:  [1, 2, 3, 4, 0]\n",
      "Cost 15\n"
     ]
    }
   ],
   "source": [
    "visitedCities = [False] * numberOfCities\n",
    "tour = []\n",
    "\n",
    "startingCity = randint(0, numberOfCities - 1)\n",
    "visitedCities[startingCity] = True\n",
    "tour.append(startingCity)\n",
    "\n",
    "def getNearestCity(fromCity):\n",
    "    smallestCost = math.inf\n",
    "    toCity = 0\n",
    "    for city, cost in enumerate(edges[fromCity]):\n",
    "        if city == fromCity: \n",
    "            continue\n",
    "        if cost < smallestCost and not visitedCities[city]:\n",
    "            smallestCost = cost\n",
    "            toCity = city\n",
    "    return toCity\n",
    "            \n",
    "\n",
    "currentIndex = 0\n",
    "while numberOfCitiesVisited(visitedCities) != numberOfCities:\n",
    "    city = getNearestCity(tour[currentIndex])\n",
    "    currentIndex += 1\n",
    "    visitedCities[city] = True\n",
    "    tour.append(city)\n",
    "\n",
    "print(\"Tour: \", tour)\n",
    "print(\"Cost\", getCost(tour, edges))"
   ]
  },
  {
   "cell_type": "code",
   "execution_count": null,
   "metadata": {},
   "outputs": [],
   "source": []
  }
 ],
 "metadata": {
  "kernelspec": {
   "display_name": "Python 3",
   "language": "python",
   "name": "python3"
  },
  "language_info": {
   "codemirror_mode": {
    "name": "ipython",
    "version": 3
   },
   "file_extension": ".py",
   "mimetype": "text/x-python",
   "name": "python",
   "nbconvert_exporter": "python",
   "pygments_lexer": "ipython3",
   "version": "3.6.5"
  }
 },
 "nbformat": 4,
 "nbformat_minor": 2
}
