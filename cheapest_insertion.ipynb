{
 "cells": [
  {
   "cell_type": "code",
   "execution_count": 15,
   "metadata": {},
   "outputs": [],
   "source": [
    "from data import numberOfCities, edges\n",
    "from utils import getCost, numberOfCitiesVisited\n",
    "from random import randint\n",
    "import math"
   ]
  },
  {
   "cell_type": "code",
   "execution_count": 20,
   "metadata": {},
   "outputs": [],
   "source": [
    "def insertCity(city):\n",
    "    bestTour = None\n",
    "    bestCost = math.inf\n",
    "    for i in range(0, len(tour)):\n",
    "        tempTour = tour.copy()\n",
    "        tempTour.insert(i, city)\n",
    "        cost = getCost(tempTour, edges)\n",
    "        if cost < bestCost:\n",
    "            bestTour = tempTour\n",
    "            bestCost = cost\n",
    "    return bestTour, bestCost\n",
    "\n",
    "def getBestInsertion():\n",
    "    bestTour = 0\n",
    "    bestCost = math.inf\n",
    "    bestCity = 0\n",
    "\n",
    "    for city in range(0, numberOfCities):\n",
    "        if visitedCities[city]:\n",
    "            continue\n",
    "        nextTour, cost = insertCity(city)\n",
    "        if cost < bestCost:\n",
    "            bestTour = nextTour\n",
    "            bestCost = cost\n",
    "            bestCity = city\n",
    "    return bestTour, bestCity\n",
    "\n",
    "def getRandomUnvisitedCity(visitedCities):\n",
    "    notFound = True\n",
    "    city = 0\n",
    "    while notFound:\n",
    "        randIndex = randint(0, 4)\n",
    "        if not visitedCities[randIndex]:\n",
    "            notFound= False\n",
    "            city = randIndex\n",
    "    return city\n"
   ]
  },
  {
   "cell_type": "code",
   "execution_count": 31,
   "metadata": {},
   "outputs": [
    {
     "name": "stdout",
     "output_type": "stream",
     "text": [
      "Tour:  [0, 3, 4, 1, 2]\n",
      "Cost 12\n"
     ]
    }
   ],
   "source": [
    "visitedCities = [False] * numberOfCities;\n",
    "tour = []\n",
    "\n",
    "startingCity1 = randint(0, numberOfCities - 1)\n",
    "tour.append(startingCity1)\n",
    "visitedCities[startingCity1] = True\n",
    "startingCity2 = getRandomUnvisitedCity(visitedCities)\n",
    "tour.append(startingCity2)\n",
    "visitedCities[startingCity2] = True\n",
    "\n",
    "while numberOfCitiesVisited(visitedCities) != numberOfCities:\n",
    "    tour, insertedCity = getBestInsertion()\n",
    "    visitedCities[insertedCity] = True\n",
    "\n",
    "print(\"Tour: \", tour)\n",
    "print(\"Cost\", getCost(tour, edges))"
   ]
  },
  {
   "cell_type": "code",
   "execution_count": null,
   "metadata": {},
   "outputs": [
    {
     "name": "stdout",
     "output_type": "stream",
     "text": [
      "4 3 16 inf\n",
      "16\n",
      "[0, 3, 4, 2, 1]\n",
      "4 1 12 16\n",
      "12\n",
      "[0, 1, 4, 2, 3]\n"
     ]
    }
   ],
   "source": [
    "stop = False\n",
    "# [0, 3, 4, 1, 2]\n",
    "bestCost = math.inf\n",
    "\n",
    "sameCost = 0\n",
    "\n",
    "while not stop:\n",
    "    index1 = randint(0, 4)\n",
    "    index2 = randint(0, 4)\n",
    "    city1 = tour[index1]\n",
    "    city2 = tour[index2]\n",
    "    tempTour = tour.copy()\n",
    "    tempTour[index1] = city2\n",
    "    tempTour[index2] = city1\n",
    "    tempCost = getCost(tempTour, edges)\n",
    "\n",
    "    if tempCost < bestCost:\n",
    "        print(index1, index2, tempCost, bestCost)\n",
    "        print(tempCost)\n",
    "        print(tempTour)\n",
    "        tour = tempTour\n",
    "        bestCost = tempCost\n",
    "        ## FIX THIS\n",
    "    stop = bestCost == 12\n",
    "\n",
    "print(tour)\n",
    "print(getCost(tour, edges))\n"
   ]
  },
  {
   "cell_type": "code",
   "execution_count": null,
   "metadata": {},
   "outputs": [],
   "source": []
  },
  {
   "cell_type": "code",
   "execution_count": null,
   "metadata": {},
   "outputs": [],
   "source": []
  },
  {
   "cell_type": "code",
   "execution_count": null,
   "metadata": {},
   "outputs": [],
   "source": []
  },
  {
   "cell_type": "code",
   "execution_count": null,
   "metadata": {},
   "outputs": [],
   "source": []
  }
 ],
 "metadata": {
  "kernelspec": {
   "display_name": "Python 3",
   "language": "python",
   "name": "python3"
  },
  "language_info": {
   "codemirror_mode": {
    "name": "ipython",
    "version": 3
   },
   "file_extension": ".py",
   "mimetype": "text/x-python",
   "name": "python",
   "nbconvert_exporter": "python",
   "pygments_lexer": "ipython3",
   "version": "3.6.5"
  }
 },
 "nbformat": 4,
 "nbformat_minor": 2
}
