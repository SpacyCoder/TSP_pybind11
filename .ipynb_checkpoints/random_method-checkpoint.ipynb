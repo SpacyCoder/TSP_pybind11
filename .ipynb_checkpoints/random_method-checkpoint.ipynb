{
 "cells": [
  {
   "cell_type": "code",
   "execution_count": 9,
   "metadata": {},
   "outputs": [],
   "source": [
    "from random import randint\n",
    "from data import numberOfCities, edges\n",
    "from utils import getCost, numberOfCitiesVisited"
   ]
  },
  {
   "cell_type": "code",
   "execution_count": 10,
   "metadata": {},
   "outputs": [
    {
     "name": "stdout",
     "output_type": "stream",
     "text": [
      "([4, 0, 3, 1, 2], 17)\n",
      "Tour:  [1, 2, 4, 0, 3]\n",
      "Cost 27\n"
     ]
    }
   ],
   "source": [
    "visitedCities = [False] * numberOfCities\n",
    "tour = []; \n",
    "\n",
    "startingCity = randint(0, numberOfCities - 1)\n",
    "tour.append(startingCity)\n",
    "visitedCities[startingCity] = True\n",
    "\n",
    "while numberOfCitiesVisited(visitedCities) != numberOfCities:\n",
    "    randomIndex = randint(0, numberOfCities - 1)\n",
    "    if not visitedCities[randomIndex]:\n",
    "        visitedCities[randomIndex] = True\n",
    "        tour.append(randomIndex)\n",
    "\n",
    "print(\"Tour: \", tour)\n",
    "print(\"Cost\", getCost(tour, edges))\n"
   ]
  },
  {
   "cell_type": "code",
   "execution_count": null,
   "metadata": {},
   "outputs": [],
   "source": []
  },
  {
   "cell_type": "code",
   "execution_count": null,
   "metadata": {},
   "outputs": [],
   "source": []
  },
  {
   "cell_type": "code",
   "execution_count": null,
   "metadata": {},
   "outputs": [],
   "source": []
  },
  {
   "cell_type": "code",
   "execution_count": null,
   "metadata": {},
   "outputs": [],
   "source": []
  },
  {
   "cell_type": "code",
   "execution_count": null,
   "metadata": {},
   "outputs": [],
   "source": []
  },
  {
   "cell_type": "code",
   "execution_count": null,
   "metadata": {},
   "outputs": [],
   "source": []
  }
 ],
 "metadata": {
  "kernelspec": {
   "display_name": "Python 3",
   "language": "python",
   "name": "python3"
  },
  "language_info": {
   "codemirror_mode": {
    "name": "ipython",
    "version": 3
   },
   "file_extension": ".py",
   "mimetype": "text/x-python",
   "name": "python",
   "nbconvert_exporter": "python",
   "pygments_lexer": "ipython3",
   "version": "3.6.5"
  }
 },
 "nbformat": 4,
 "nbformat_minor": 2
}
