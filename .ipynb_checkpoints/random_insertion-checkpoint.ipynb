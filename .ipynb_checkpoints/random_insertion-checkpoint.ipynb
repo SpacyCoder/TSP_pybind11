{
 "cells": [
  {
   "cell_type": "code",
   "execution_count": 6,
   "metadata": {},
   "outputs": [],
   "source": [
    "from random import randint;\n",
    "import math\n",
    "\n",
    "edges = [None] * 5\n",
    "edges[0] = [0, 3, 5, 4, 10]\n",
    "edges[1] = [3, 0, 1, 2, 3]\n",
    "edges[2] = [6, 3, 0, 1, 13]\n",
    "edges[3] = [9, 3, 5, 0, 4]\n",
    "edges[4] = [9, 3, 5, 13, 0]\n",
    "numberOfCities = 5\n",
    "\n",
    "def getCost(tour):\n",
    "    cost = 0\n",
    "    for city in range(1, len(tour)):\n",
    "        fromCity = tour[city - 1]\n",
    "        toCity = tour[city]\n",
    "        cost += edges[fromCity][toCity]\n",
    "    return cost\n",
    "\n",
    "def numberOfCitiesVisited(visitedCities):\n",
    "    count = 0;\n",
    "    for visited in visitedCities:\n",
    "        if visited:\n",
    "            count += 1\n",
    "    return count"
   ]
  },
  {
   "cell_type": "code",
   "execution_count": 18,
   "metadata": {},
   "outputs": [
    {
     "name": "stdout",
     "output_type": "stream",
     "text": [
      "[1, 2]\n",
      "Tour:  [0, 3, 4, 1, 2]\n",
      "Cost 12\n"
     ]
    }
   ],
   "source": [
    "visitedCities = [False] * 5;\n",
    "tour = [];\n",
    "\n",
    "def getRandomUnvisitedCity():\n",
    "    notFound = True\n",
    "    city = 0\n",
    "    while notFound:\n",
    "        randIndex = randint(0, 4)\n",
    "        if not visitedCities[randIndex]:\n",
    "            notFound= False\n",
    "            city = randIndex\n",
    "    return city\n",
    "\n",
    "startingCity1 = 1\n",
    "tour.append(startingCity1)\n",
    "visitedCities[startingCity1] = True\n",
    "startingCity2 = 2\n",
    "tour.append(startingCity2)\n",
    "visitedCities[startingCity2] = True\n",
    "print(tour)\n",
    "def insertCity(city):\n",
    "    bestTour = None\n",
    "    bestCost = math.inf\n",
    "        \n",
    "    for i in range(0, len(tour)):\n",
    "        tempTour = tour.copy()\n",
    "        tempTour.insert(i, city)\n",
    "        cost = getCost(tempTour)\n",
    "        if cost < bestCost:\n",
    "            bestTour = tempTour\n",
    "            bestCost = cost\n",
    "    return bestTour\n",
    "\n",
    "while numberOfCitiesVisited(visitedCities) != numberOfCities:\n",
    "    nextCity = getRandomUnvisitedCity()\n",
    "    visitedCities[nextCity] = True\n",
    "    tour = insertCity(nextCity)\n",
    "    \n",
    "print(\"Tour: \", tour)\n",
    "print(\"Cost\", getCost(tour))"
   ]
  },
  {
   "cell_type": "code",
   "execution_count": null,
   "metadata": {},
   "outputs": [],
   "source": []
  },
  {
   "cell_type": "code",
   "execution_count": null,
   "metadata": {},
   "outputs": [],
   "source": []
  }
 ],
 "metadata": {
  "kernelspec": {
   "display_name": "Python 3",
   "language": "python",
   "name": "python3"
  },
  "language_info": {
   "codemirror_mode": {
    "name": "ipython",
    "version": 3
   },
   "file_extension": ".py",
   "mimetype": "text/x-python",
   "name": "python",
   "nbconvert_exporter": "python",
   "pygments_lexer": "ipython3",
   "version": "3.6.5"
  }
 },
 "nbformat": 4,
 "nbformat_minor": 2
}
