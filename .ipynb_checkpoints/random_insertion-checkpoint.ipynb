{
 "cells": [
  {
   "cell_type": "code",
   "execution_count": 7,
   "metadata": {},
   "outputs": [],
   "source": [
    "from data import numberOfCities, edges\n",
    "from utils import getCost, numberOfCitiesVisited\n",
    "from random import randint\n",
    "import math"
   ]
  },
  {
   "cell_type": "code",
   "execution_count": 10,
   "metadata": {},
   "outputs": [
    {
     "name": "stdout",
     "output_type": "stream",
     "text": [
      "[3, 2]\n",
      "Tour:  [0, 3, 4, 1, 2]\n",
      "Cost 12\n"
     ]
    }
   ],
   "source": [
    "visitedCities = [False] * numberOfCities\n",
    "tour = []; \n",
    "\n",
    "def getRandomUnvisitedCity():\n",
    "    notFound = True\n",
    "    city = 0\n",
    "    while notFound:\n",
    "        randIndex = randint(0, 4)\n",
    "        if not visitedCities[randIndex]:\n",
    "            notFound= False\n",
    "            city = randIndex\n",
    "    return city\n",
    "\n",
    "startingCity1 = getRandomUnvisitedCity()\n",
    "tour.append(startingCity1)\n",
    "visitedCities[startingCity1] = True\n",
    "startingCity2 = getRandomUnvisitedCity()\n",
    "tour.append(startingCity2)\n",
    "visitedCities[startingCity2] = True\n",
    "print(tour)\n",
    "def insertCity(city):\n",
    "    bestTour = None\n",
    "    bestCost = math.inf\n",
    "        \n",
    "    for i in range(0, len(tour)):\n",
    "        tempTour = tour.copy()\n",
    "        tempTour.insert(i, city)\n",
    "        cost = getCost(tempTour, edges)\n",
    "        if cost < bestCost:\n",
    "            bestTour = tempTour\n",
    "            bestCost = cost\n",
    "    return bestTour\n",
    "\n",
    "while numberOfCitiesVisited(visitedCities) != numberOfCities:\n",
    "    nextCity = getRandomUnvisitedCity()\n",
    "    visitedCities[nextCity] = True\n",
    "    tour = insertCity(nextCity)\n",
    "    \n",
    "print(\"Tour: \", tour)\n",
    "print(\"Cost\", getCost(tour, edges))"
   ]
  },
  {
   "cell_type": "code",
   "execution_count": null,
   "metadata": {},
   "outputs": [],
   "source": []
  },
  {
   "cell_type": "code",
   "execution_count": null,
   "metadata": {},
   "outputs": [],
   "source": []
  }
 ],
 "metadata": {
  "kernelspec": {
   "display_name": "Python 3",
   "language": "python",
   "name": "python3"
  },
  "language_info": {
   "codemirror_mode": {
    "name": "ipython",
    "version": 3
   },
   "file_extension": ".py",
   "mimetype": "text/x-python",
   "name": "python",
   "nbconvert_exporter": "python",
   "pygments_lexer": "ipython3",
   "version": "3.6.5"
  }
 },
 "nbformat": 4,
 "nbformat_minor": 2
}
