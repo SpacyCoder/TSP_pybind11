{
 "cells": [
  {
   "cell_type": "code",
   "execution_count": 1,
   "metadata": {},
   "outputs": [],
   "source": [
    "from random import randint;\n",
    "import math\n",
    "\n",
    "edges = [None] * 5\n",
    "edges[0] = [0, 3, 5, 4, 10] \n",
    "edges[1] = [3, 0, 1, 2, 3]\n",
    "edges[2] = [6, 3, 0, 6, 13]\n",
    "edges[3] = [9, 3, 5, 0, 4]\n",
    "edges[4] = [9, 3, 5, 13, 0]\n",
    "numberOfCities = 5\n",
    "\n",
    "def getCost(selectedTour):\n",
    "    cost = 0\n",
    "    for city in range(1, len(selectedTour)):\n",
    "        fromCity = selectedTour[city - 1]\n",
    "        toCity = selectedTour[city]\n",
    "        cost += edges[fromCity][toCity]\n",
    "    return cost\n",
    "\n",
    "def numberOfCitiesVisited(visitedCities):\n",
    "    count = 0\n",
    "    for visited in visitedCities:\n",
    "        if visited:\n",
    "            count += 1\n",
    "    return count"
   ]
  },
  {
   "cell_type": "code",
   "execution_count": 2,
   "metadata": {},
   "outputs": [
    {
     "name": "stdout",
     "output_type": "stream",
     "text": [
      "[]\n",
      "[3, 1]\n",
      "Tour:  [0, 3, 4, 2, 1]\n",
      "Cost 16\n"
     ]
    }
   ],
   "source": [
    "visitedCities = [False] * 5;\n",
    "tour = []\n",
    "print(tour)\n",
    "def getRandomUnvisitedCity():\n",
    "    notFound = True\n",
    "    city = 0\n",
    "    while notFound:\n",
    "        randIndex = randint(0, 4)\n",
    "        if not visitedCities[randIndex]:\n",
    "            notFound= False\n",
    "            city = randIndex\n",
    "    return city\n",
    "\n",
    "startingCity1 = getRandomUnvisitedCity()\n",
    "tour.append(startingCity1)\n",
    "visitedCities[startingCity1] = True\n",
    "startingCity2 = getRandomUnvisitedCity()\n",
    "tour.append(startingCity2)\n",
    "visitedCities[startingCity2] = True\n",
    "print(tour)\n",
    "\n",
    "def insertCity(city):\n",
    "    bestTour = None\n",
    "    bestCost = math.inf\n",
    "    for i in range(0, len(tour)):\n",
    "        tempTour = tour.copy()\n",
    "        tempTour.insert(i, city)\n",
    "        cost = getCost(tempTour)\n",
    "        if cost < bestCost:\n",
    "            bestTour = tempTour\n",
    "            bestCost = cost\n",
    "    return bestTour, bestCost\n",
    "\n",
    "def getBestInsertion():\n",
    "    bestTour = 0\n",
    "    bestCost = math.inf\n",
    "    bestCity = 0\n",
    "\n",
    "    for city in range(0, numberOfCities):\n",
    "        if visitedCities[city]:\n",
    "            continue\n",
    "        nextTour, cost = insertCity(city)\n",
    "        if cost < bestCost:\n",
    "            bestTour = nextTour\n",
    "            bestCost = cost\n",
    "            bestCity = city\n",
    "    return bestTour, bestCity\n",
    "\n",
    "while numberOfCitiesVisited(visitedCities) != numberOfCities:\n",
    "    tour, insertedCity = getBestInsertion()\n",
    "    visitedCities[insertedCity] = True\n",
    "\n",
    "print(\"Tour: \", tour)\n",
    "print(\"Cost\", getCost(tour))"
   ]
  },
  {
   "cell_type": "code",
   "execution_count": null,
   "metadata": {},
   "outputs": [
    {
     "name": "stdout",
     "output_type": "stream",
     "text": [
      "2 4 21 inf\n",
      "21\n",
      "[0, 3, 1, 2, 4]\n",
      "3 1 14 21\n",
      "14\n",
      "[0, 2, 1, 3, 4]\n"
     ]
    }
   ],
   "source": [
    "stop = False\n",
    "# [0, 3, 4, 1, 2]\n",
    "bestCost = math.inf\n",
    "\n",
    "sameCost = 0\n",
    "\n",
    "while not stop:\n",
    "    index1 = randint(0, 4)\n",
    "    index2 = randint(0, 4)\n",
    "    city1 = tour[index1]\n",
    "    city2 = tour[index2]\n",
    "    tempTour = tour.copy()\n",
    "    tempTour[index1] = city2\n",
    "    tempTour[index2] = city1\n",
    "    tempCost = getCost(tempTour)\n",
    "\n",
    "    if tempCost < bestCost:\n",
    "        print(index1, index2, tempCost, bestCost)\n",
    "        print(tempCost)\n",
    "        print(tempTour)\n",
    "        tour = tempTour\n",
    "        bestCost = tempCost\n",
    "        \n",
    "    stop = bestCost == 12\n",
    "\n",
    "print(tour)\n",
    "print(getCost(tour))\n"
   ]
  },
  {
   "cell_type": "code",
   "execution_count": null,
   "metadata": {},
   "outputs": [],
   "source": []
  },
  {
   "cell_type": "code",
   "execution_count": null,
   "metadata": {},
   "outputs": [],
   "source": []
  },
  {
   "cell_type": "code",
   "execution_count": null,
   "metadata": {},
   "outputs": [],
   "source": []
  },
  {
   "cell_type": "code",
   "execution_count": null,
   "metadata": {},
   "outputs": [],
   "source": []
  }
 ],
 "metadata": {
  "kernelspec": {
   "display_name": "Python 3",
   "language": "python",
   "name": "python3"
  },
  "language_info": {
   "codemirror_mode": {
    "name": "ipython",
    "version": 3
   },
   "file_extension": ".py",
   "mimetype": "text/x-python",
   "name": "python",
   "nbconvert_exporter": "python",
   "pygments_lexer": "ipython3",
   "version": "3.6.5"
  }
 },
 "nbformat": 4,
 "nbformat_minor": 2
}
