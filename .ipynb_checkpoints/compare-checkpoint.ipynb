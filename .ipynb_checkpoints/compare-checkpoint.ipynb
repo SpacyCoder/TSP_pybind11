{
 "cells": [
  {
   "cell_type": "code",
   "execution_count": 40,
   "metadata": {},
   "outputs": [],
   "source": [
    "from random import randint\n",
    "from utils import getCost, numberOfCitiesVisited\n",
    "from random_method import RandomMethod\n",
    "from iterative_random_method import IterativeRandomMethod\n",
    "from greedy_method import GreedyMethod\n",
    "from greedy_optimization import GreedyOptimization\n",
    "from greedy_random_optimization import GreedyRandomOptimization\n",
    "import numpy as np\n",
    "import time\n",
    "\n"
   ]
  },
  {
   "cell_type": "code",
   "execution_count": null,
   "metadata": {},
   "outputs": [
    {
     "name": "stdout",
     "output_type": "stream",
     "text": [
      "[[  0  36 572 ... 655  68 757]\n",
      " [ 47   0 774 ... 441 251 173]\n",
      " [324 501   0 ...   8 600 680]\n",
      " ...\n",
      " [791 674 914 ...   0  63 127]\n",
      " [744  30 397 ... 258   0 193]\n",
      " [387 800 293 ... 179 353   0]]\n",
      "Start Random Algorithm\n",
      "Random used: 0.8895339965820312 seconds\n",
      "Random Cost: 494651\n",
      "Start Iterative Random Algorithm\n",
      "Iterative Random used: 10.402540683746338 seconds\n",
      "Iterative Random Cost: 477346\n",
      "Start Greedy Algorithm\n",
      "Greedy used: 0.5499444007873535 seconds\n",
      "Greedy Cost: 6869\n",
      "Random Cost(Greedy optimized): 484270\n",
      "Iterative Random Cost(Greedy optimized): 465600\n"
     ]
    }
   ],
   "source": [
    "import random, numpy\n",
    "edges = numpy.random.randint(1,1000,(1000, 1000))\n",
    "numberOfCities = len(edges)\n",
    "for i in range(0, len(edges)):\n",
    "    edges[i][i] = 0\n",
    "\n",
    "\n",
    "print(\"Start Random Algorithm\")\n",
    "start = time.time()\n",
    "randomTour, randomCost = RandomMethod(edges).run()\n",
    "end = time.time()\n",
    "print(\"Random used:\",end-start, \"seconds\")\n",
    "print(\"Random Cost:\", randomCost)\n",
    "\n",
    "iterations = 10\n",
    "print(\"Start Iterative Random Algorithm\")\n",
    "start = time.time()\n",
    "iterativeRandomTour, iterativeRandomCost = IterativeRandomMethod(edges, iterations).run()\n",
    "end = time.time()\n",
    "print(\"Iterative Random used:\",end-start, \"seconds\")\n",
    "print(\"Iterative Random Cost:\", iterativeRandomCost)\n",
    "\n",
    "print(\"Start Greedy Algorithm\")\n",
    "start = time.time()\n",
    "greedyTour, greedyCost = GreedyMethod(edges).run()\n",
    "end = time.time()\n",
    "print(\"Greedy used:\",end-start, \"seconds\")\n",
    "print( \"Greedy Cost:\", greedyCost)\n",
    "\n",
    "stopCriterion = 20\n",
    "greedyOptimized, greedyOptimizedCost = GreedyOptimization(edges, stopCriterion).run(randomTour)\n",
    "print( \"Random Cost(Greedy optimized):\", greedyOptimizedCost)\n",
    "\n",
    "greedyOptimized, greedyOptimizedCost = GreedyOptimization(edges, stopCriterion).run(iterativeRandomTour)\n",
    "print(\"Iterative Random Cost(Greedy optimized):\", greedyOptimizedCost)\n",
    "\n",
    "greedyOptimized, greedyOptimizedCost = GreedyOptimization(edges, stopCriterion).run(greedyTour)\n",
    "print(\"Greedy Cost(Greedy optimized):\", greedyOptimizedCost)\n",
    "\n",
    "maxTries = 20\n",
    "greedyRandomOptimized, greedyRandomOptimizedCost = GreedyRandomOptimization(edges).run(randomTour, randomCost, maxTries)\n",
    "print(\"Random Cost(Greedy Random optimized):\", greedyRandomOptimizedCost)\n",
    "\n",
    "greedyRandomOptimized, greedyRandomOptimizedCost = GreedyRandomOptimization(edges).run(iterativeRandomTour, iterativeRandomCost, maxTries)\n",
    "print(\"Iterative Random Cost(Greedy Random optimized):\", greedyRandomOptimizedCost)\n",
    "\n",
    "greedyRandomOptimized, greedyRandomOptimizedCost = GreedyRandomOptimization(edges).run(greedyTour, greedyCost, maxTries)\n",
    "print(\"Greedy Cost(Greedy Random optimized):\", greedyRandomOptimizedCost)\n"
   ]
  },
  {
   "cell_type": "code",
   "execution_count": 30,
   "metadata": {},
   "outputs": [
    {
     "name": "stdout",
     "output_type": "stream",
     "text": [
      "[[ 0  6  5 11 16 10 12  8 19  4]\n",
      " [18  0 15  1 14  5  5  3  3 15]\n",
      " [11 19  0 18  6  4 12  2  2 18]\n",
      " [ 8 10 11  0  7 13  1 15 12 17]\n",
      " [ 3  9  8  3  0 12 15  5  4 14]\n",
      " [ 5  4 12  4  2  0  1 17 15  4]\n",
      " [14 14  8 12  7 13  0  6 12 13]\n",
      " [ 2 18 19 18 17 10  9  0  5  4]\n",
      " [12 16 16  3 12  6  9  9  0 13]\n",
      " [ 9 19  2 16 10  7  1 17  3  0]]\n"
     ]
    }
   ],
   "source": []
  },
  {
   "cell_type": "code",
   "execution_count": null,
   "metadata": {},
   "outputs": [],
   "source": []
  }
 ],
 "metadata": {
  "kernelspec": {
   "display_name": "Python 3",
   "language": "python",
   "name": "python3"
  },
  "language_info": {
   "codemirror_mode": {
    "name": "ipython",
    "version": 3
   },
   "file_extension": ".py",
   "mimetype": "text/x-python",
   "name": "python",
   "nbconvert_exporter": "python",
   "pygments_lexer": "ipython3",
   "version": "3.6.5"
  }
 },
 "nbformat": 4,
 "nbformat_minor": 2
}
