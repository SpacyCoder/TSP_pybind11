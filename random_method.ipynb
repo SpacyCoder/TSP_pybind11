{
 "cells": [
  {
   "cell_type": "code",
   "execution_count": 52,
   "metadata": {},
   "outputs": [],
   "source": [
    "from random import randint;\n",
    "\n",
    "edges = [None] * 4\n",
    "edges[0] = [0, 3, 5, 4]\n",
    "edges[1] = [3, 0, 1, 2]\n",
    "edges[2] = [6, 3, 0, 1]\n",
    "edges[3] = [9, 3, 5, 0]\n",
    "numberOfCities = 4\n",
    "\n",
    "def getCost(tour):\n",
    "    cost = 0\n",
    "    for city in range(1, len(tour)):\n",
    "        fromCity = tour[city - 1]\n",
    "        toCity = tour[city]\n",
    "        cost += edges[fromCity][toCity]\n",
    "    return cost\n",
    "\n",
    "def numberOfCitiesVisited(visitedCities):\n",
    "    count = 0;\n",
    "    for visited in visitedCities:\n",
    "        if visited:\n",
    "            count += 1\n",
    "    \n",
    "    return count\n"
   ]
  },
  {
   "cell_type": "code",
   "execution_count": 57,
   "metadata": {},
   "outputs": [
    {
     "name": "stdout",
     "output_type": "stream",
     "text": [
      "Tour:  [1, 2, 0, 3]\n",
      "Cost 11\n"
     ]
    }
   ],
   "source": [
    "visitedCities = [False] * 4;\n",
    "tour = [None] * 4; \n",
    "\n",
    "startingCity = randint(0, 3)\n",
    "tour[0] = startingCity\n",
    "visitedCities[startingCity] = True\n",
    "\n",
    "currentIndex = 0\n",
    "while numberOfCitiesVisited(visitedCities) != numberOfCities:\n",
    "    randomIndex = randint(0, 3)\n",
    "    if not visitedCities[randomIndex]:\n",
    "        currentIndex += 1\n",
    "        visitedCities[randomIndex] = True\n",
    "        tour[currentIndex] = randomIndex\n",
    "\n",
    "print(\"Tour: \", tour)\n",
    "print(\"Cost\", getCost(tour))\n"
   ]
  },
  {
   "cell_type": "code",
   "execution_count": null,
   "metadata": {},
   "outputs": [],
   "source": []
  },
  {
   "cell_type": "code",
   "execution_count": null,
   "metadata": {},
   "outputs": [],
   "source": []
  },
  {
   "cell_type": "code",
   "execution_count": null,
   "metadata": {},
   "outputs": [],
   "source": []
  },
  {
   "cell_type": "code",
   "execution_count": null,
   "metadata": {},
   "outputs": [],
   "source": []
  },
  {
   "cell_type": "code",
   "execution_count": null,
   "metadata": {},
   "outputs": [],
   "source": []
  },
  {
   "cell_type": "code",
   "execution_count": null,
   "metadata": {},
   "outputs": [],
   "source": []
  }
 ],
 "metadata": {
  "kernelspec": {
   "display_name": "Python 3",
   "language": "python",
   "name": "python3"
  },
  "language_info": {
   "codemirror_mode": {
    "name": "ipython",
    "version": 3
   },
   "file_extension": ".py",
   "mimetype": "text/x-python",
   "name": "python",
   "nbconvert_exporter": "python",
   "pygments_lexer": "ipython3",
   "version": "3.6.5"
  }
 },
 "nbformat": 4,
 "nbformat_minor": 2
}
